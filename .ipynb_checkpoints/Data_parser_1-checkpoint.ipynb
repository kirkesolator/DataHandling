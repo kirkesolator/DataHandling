{
 "cells": [
  {
   "cell_type": "code",
   "execution_count": 7,
   "metadata": {},
   "outputs": [
    {
     "name": "stdout",
     "output_type": "stream",
     "text": [
      "Cleaned up data looks like this:\n",
      "\n",
      "Experimenter: tor\n",
      "Datetime: 201812210139\n",
      "MouseID: b1001\n",
      "Behavioural protocol started: 20181221013957\n",
      "S:8866\n",
      "Z1:8867\n",
      "X1:8867\n",
      "Q2:13330\n",
      "W:14330\n",
      "T:14430\n",
      "U:14450\n",
      "X2:14450\n",
      "Q0:17681\n",
      "W:18681\n",
      "T:18781\n",
      "U:18801\n",
      "X3:18801\n",
      "Q3:20438\n",
      "W:21438\n",
      "Y:21538\n",
      "U:21558\n",
      "X4:21558\n",
      "Behavioural protocol ended: 20181221014011\n"
     ]
    }
   ],
   "source": [
    "# Imports\n",
    "import numpy as np\n",
    "import matplotlib.pyplot as plt\n",
    "\n",
    "# Serial arduino --> python delay used in code\n",
    "vDelay = 100; #(ms)\n",
    "\n",
    "# Read all the data and clean it up\n",
    "dataPath = 'b1001_201812210139.txt'\n",
    "mystr = []\n",
    "print('Cleaned up data looks like this:\\n')\n",
    "with open(dataPath, 'r') as var:\n",
    "    for line in var:\n",
    "        line = line.rstrip()\n",
    "        if len(line) > 1:\n",
    "            print(line)\n",
    "            mystr.append(line)\n",
    "\n",
    "# Get event keys and corresponding time stamps (as ints) in separate lists\n",
    "keys = []\n",
    "values = []\n",
    "for i in mystr[4:-1]:\n",
    "    a,b = i.split(\":\")\n",
    "    keys.append(a)\n",
    "    values.append(int(b))\n",
    "\n",
    "# Generate an array to hold the data\n",
    "dataArray = np.zeros((len(values),7))\n",
    "header = {'timestamps','event key','trial number','trial start (ITI)','rewarded','stimulus type','stimulus start (S1)'}\n",
    "for i,j in enumerate(values):\n",
    "    dataArray[i,0] = j\n",
    "    dataArray[i,1] = ord(keys[i][0])\n",
    "\n",
    "# Identify trial start and gabor onset timestamps\n",
    "itemindex = np.where(dataArray==ord('X'))\n",
    "Xindex = itemindex[0][:]\n",
    "itemindex = np.where(dataArray==ord('Q'))\n",
    "Qindex = itemindex[0][:]\n",
    "np.append(Xindex,len(values)) # Pad the array for easy iterative processing\n",
    "for i,j in enumerate(Xindex):\n",
    "    if i < len(Xindex)-1:\n",
    "        dataArray[Xindex[i]:Xindex[i+1]+1,2] = i # Trial number\n",
    "        dataArray[Xindex[i]:Xindex[i+1]+1,3] = values[j] # Extract all ITI start times\n",
    "        dataArray[Xindex[i]:Xindex[i+1]+1,5] = keys[Qindex[i]][1] # Extract stimulus type (<4 is stim 1, <3 is stim 2)\n",
    "        dataArray[Xindex[i]:Xindex[i+1]+1,6] = values[Qindex[i]] + vDelay # Extract stimulus type (<4 is stim 1, <3 is stim 2)\n",
    "        \n",
    "        # Check for reward\n",
    "        testt = dataArray[Xindex[i]:Xindex[i+1]+1,1] == ord('T')\n",
    "        if testt.any():\n",
    "            dataArray[Xindex[i]:Xindex[i+1]+1,4] = 1\n",
    "        else:\n",
    "            dataArray[Xindex[i]:Xindex[i+1]+1,4] = 0\n"
   ]
  },
  {
   "cell_type": "code",
   "execution_count": 8,
   "metadata": {},
   "outputs": [
    {
     "name": "stdout",
     "output_type": "stream",
     "text": [
      "Reward onset delay from Gabor onset: [1000. 1000.]ms\n"
     ]
    }
   ],
   "source": [
    "# Example: extract all reward onset times centered on each trial's Gabor onset\n",
    "selection = dataArray[:,1] == ord('T') # Find all reward onsets (reward onset key = T)\n",
    "temp = dataArray[selection,0]-dataArray[selection,6] # Subtract the gabor onset time for each trial\n",
    "print('Reward onset delay from Gabor onset: ' + str(temp) + 'ms') # Print"
   ]
  },
  {
   "cell_type": "code",
   "execution_count": 17,
   "metadata": {},
   "outputs": [],
   "source": [
    "# Example: extract all lick events and divide them according to whether they occurred in a rewarded or non-rewarded trial\n",
    "selection1 = dataArray[:,1] == ord('j') # Find all licks (lick key = j)\n",
    "selection1_1 = dataArray[:,4] == 1 # Find all licks within rewarded trials\n",
    "selection1_2 = dataArray[:,4] == 0 # Find all licks within NON-rewarded trials\n",
    "licksReward = dataArray[(selection1) & (selection1_1),0]-dataArray[(selection1) & (selection1_1),6] # Subtract the gabor onset time for each trial\n",
    "licksNoReward = dataArray[(selection1) & (selection1_2),0]-dataArray[(selection1) & (selection1_2),6] # Subtract the gabor onset time for each trial\n"
   ]
  },
  {
   "cell_type": "code",
   "execution_count": null,
   "metadata": {},
   "outputs": [],
   "source": []
  }
 ],
 "metadata": {
  "kernelspec": {
   "display_name": "Python 2",
   "language": "python",
   "name": "python2"
  },
  "language_info": {
   "codemirror_mode": {
    "name": "ipython",
    "version": 2
   },
   "file_extension": ".py",
   "mimetype": "text/x-python",
   "name": "python",
   "nbconvert_exporter": "python",
   "pygments_lexer": "ipython2",
   "version": "2.7.15"
  }
 },
 "nbformat": 4,
 "nbformat_minor": 2
}
