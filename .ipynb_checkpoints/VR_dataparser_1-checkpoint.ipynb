{
 "cells": [
  {
   "cell_type": "code",
   "execution_count": 687,
   "metadata": {},
   "outputs": [],
   "source": [
    "import csv\n",
    "import matplotlib.pyplot as plt\n",
    "from datetime import datetime\n",
    "import numpy as np\n",
    "import pandas as pd\n",
    "from matplotlib import style\n",
    "style.use('ggplot')\n",
    "from struct import unpack"
   ]
  },
  {
   "cell_type": "code",
   "execution_count": 1262,
   "metadata": {},
   "outputs": [
    {
     "ename": "ModuleNotFoundError",
     "evalue": "No module named 'OpenEphys'",
     "output_type": "error",
     "traceback": [
      "\u001b[0;31m---------------------------------------------------------------------------\u001b[0m",
      "\u001b[0;31mModuleNotFoundError\u001b[0m                       Traceback (most recent call last)",
      "\u001b[0;32m<ipython-input-1262-039ffa2a8c8d>\u001b[0m in \u001b[0;36m<module>\u001b[0;34m()\u001b[0m\n\u001b[0;32m----> 1\u001b[0;31m \u001b[0;32mimport\u001b[0m \u001b[0mOpenEphys\u001b[0m\u001b[0;34m\u001b[0m\u001b[0m\n\u001b[0m",
      "\u001b[0;31mModuleNotFoundError\u001b[0m: No module named 'OpenEphys'"
     ]
    }
   ],
   "source": [
    "import OpenEphys"
   ]
  },
  {
   "cell_type": "code",
   "execution_count": 33,
   "metadata": {},
   "outputs": [],
   "source": [
    "with open('/Users/StensolaTor/Fundrive/hpm/hpm_201903101138.csv') as csvfile:\n",
    "    readCSV = csv.reader(csvfile,delimiter=',')\n",
    "    data = []\n",
    "    datum = []\n",
    "    for row in readCSV:\n",
    "        if len(row) > 0:\n",
    "            if row[0] == '':\n",
    "                datum.append(''.join(row[1:]))\n",
    "            else:\n",
    "                datum = row\n",
    "            data.append(datum)"
   ]
  },
  {
   "cell_type": "code",
   "execution_count": 296,
   "metadata": {},
   "outputs": [],
   "source": [
    "myData = {\n",
    "    'Trial': [],\n",
    "    'Session': [],\n",
    "    'Sniff': [],\n",
    "    'Position': [],\n",
    "    'Reward trigger': [],\n",
    "    'Reward onset': [],\n",
    "    'Reward offset': [],\n",
    "    'Licks': [],\n",
    "}"
   ]
  },
  {
   "cell_type": "code",
   "execution_count": 297,
   "metadata": {},
   "outputs": [],
   "source": [
    "session = 1\n",
    "for datum in data:\n",
    "    t = [float(x) for x in datum[1:]]\n",
    "#    t.append(session)\n",
    "    if datum[0] == 'x':\n",
    "        myData['Sniff'].append(t)\n",
    "    elif datum[0] == 'M':\n",
    "        myData['Position'].append(t)\n",
    "    elif datum[0] == 'R':\n",
    "        myData['Reward trigger'].append(t)\n",
    "    elif datum[0] == 'r':\n",
    "        myData['Reward onset'].append(t)\n",
    "    elif datum[0] == 'p':\n",
    "        myData['Reward offset'].append(t)\n",
    "    elif datum[0] == 'l':\n",
    "        myData['Licks'].append(t)\n",
    "    elif datum[0] == 'T':\n",
    "        myData['Trial'].append(t)"
   ]
  },
  {
   "cell_type": "code",
   "execution_count": 140,
   "metadata": {},
   "outputs": [],
   "source": [
    "time = []\n",
    "pos = []\n",
    "for rows in myData['Position']:\n",
    "    pos.append(float(rows[0]))\n",
    "    time.append(float(rows[1]))"
   ]
  },
  {
   "cell_type": "code",
   "execution_count": 233,
   "metadata": {},
   "outputs": [],
   "source": [
    "t = [float(x) for x in datum[1:]]"
   ]
  },
  {
   "cell_type": "code",
   "execution_count": 245,
   "metadata": {},
   "outputs": [],
   "source": [
    "t.append(session)"
   ]
  },
  {
   "cell_type": "code",
   "execution_count": 337,
   "metadata": {},
   "outputs": [],
   "source": [
    "df = pd.DataFrame(data)"
   ]
  },
  {
   "cell_type": "code",
   "execution_count": 299,
   "metadata": {},
   "outputs": [
    {
     "ename": "TypeError",
     "evalue": "list indices must be integers or slices, not str",
     "output_type": "error",
     "traceback": [
      "\u001b[0;31m---------------------------------------------------------------------------\u001b[0m",
      "\u001b[0;31mTypeError\u001b[0m                                 Traceback (most recent call last)",
      "\u001b[0;32m<ipython-input-299-b298483371cf>\u001b[0m in \u001b[0;36m<module>\u001b[0;34m()\u001b[0m\n\u001b[0;32m----> 1\u001b[0;31m \u001b[0mmyData\u001b[0m\u001b[0;34m[\u001b[0m\u001b[0;34m'Licks'\u001b[0m\u001b[0;34m]\u001b[0m\u001b[0;34m[\u001b[0m\u001b[0;34m'direction'\u001b[0m\u001b[0;34m]\u001b[0m \u001b[0;34m=\u001b[0m \u001b[0;36m1\u001b[0m\u001b[0;34m\u001b[0m\u001b[0m\n\u001b[0m",
      "\u001b[0;31mTypeError\u001b[0m: list indices must be integers or slices, not str"
     ]
    }
   ],
   "source": [
    "myData['Licks']"
   ]
  },
  {
   "cell_type": "code",
   "execution_count": 276,
   "metadata": {},
   "outputs": [
    {
     "data": {
      "text/plain": [
       "[<matplotlib.lines.Line2D at 0x149092da0>]"
      ]
     },
     "execution_count": 276,
     "metadata": {},
     "output_type": "execute_result"
    },
    {
     "data": {
      "image/png": "[encoded data removed]",
      "text/plain": [
       "<Figure size 720x864 with 1 Axes>"
      ]
     },
     "metadata": {},
     "output_type": "display_data"
    }
   ],
   "source": [
    "plt.figure(figsize=[10,12])\n",
    "plt.plot(myData['Position'][:][1],myData['Position'][:][2],'.k',markersize = .1)"
   ]
  },
  {
   "cell_type": "code",
   "execution_count": 133,
   "metadata": {},
   "outputs": [],
   "source": [
    "# Get all lick onsets\n",
    "lick_dir = [float(x[1]) for x in myData['Licks'] if x[0] is '1']"
   ]
  },
  {
   "cell_type": "code",
   "execution_count": 326,
   "metadata": {},
   "outputs": [],
   "source": [
    "myData['Date'] = datetime.strptime(data[1][0][10:], '%Y%m%d%H%M')"
   ]
  },
  {
   "cell_type": "code",
   "execution_count": 202,
   "metadata": {},
   "outputs": [
    {
     "ename": "KeyError",
     "evalue": "4",
     "output_type": "error",
     "traceback": [
      "\u001b[0;31m---------------------------------------------------------------------------\u001b[0m",
      "\u001b[0;31mKeyError\u001b[0m                                  Traceback (most recent call last)",
      "\u001b[0;32m<ipython-input-202-cb457c8e3f59>\u001b[0m in \u001b[0;36m<module>\u001b[0;34m()\u001b[0m\n\u001b[0;32m----> 1\u001b[0;31m \u001b[0mmyData\u001b[0m\u001b[0;34m[\u001b[0m\u001b[0;36m4\u001b[0m\u001b[0;34m]\u001b[0m\u001b[0;34m\u001b[0m\u001b[0m\n\u001b[0m",
      "\u001b[0;31mKeyError\u001b[0m: 4"
     ]
    }
   ],
   "source": [
    "myData[4]"
   ]
  },
  {
   "cell_type": "code",
   "execution_count": 338,
   "metadata": {},
   "outputs": [],
   "source": [
    "test = {'Licks': {'dir': myData['Licks'][1][0], \n",
    "                  'timestampA': myData['Licks'][1][1],\n",
    "                  'timestampPC': myData['Licks'][1][2]},\n",
    "        'Position':{'Pos': myData['Position'][1][0], \n",
    "                    'timestampPC': myData['Position'][1][1]},\n",
    "        'Time': myData['Date'],\n",
    "        'Session': session,\n",
    "       }"
   ]
  },
  {
   "cell_type": "code",
   "execution_count": 339,
   "metadata": {},
   "outputs": [
    {
     "data": {
      "text/plain": [
       "{'Licks': {'dir': -1.0, 'timestampA': 88957.0, 'timestampPC': 99.626},\n",
       " 'Position': {'Pos': 0.0, 'timestampPC': 80.81},\n",
       " 'Time': datetime.datetime(2019, 3, 10, 11, 38),\n",
       " 'Session': 1}"
      ]
     },
     "execution_count": 339,
     "metadata": {},
     "output_type": "execute_result"
    }
   ],
   "source": [
    "test"
   ]
  },
  {
   "cell_type": "code",
   "execution_count": 340,
   "metadata": {},
   "outputs": [
    {
     "data": {
      "text/plain": [
       "88957.0"
      ]
     },
     "execution_count": 340,
     "metadata": {},
     "output_type": "execute_result"
    }
   ],
   "source": [
    "test['Licks']['timestampA']"
   ]
  },
  {
   "cell_type": "code",
   "execution_count": 341,
   "metadata": {},
   "outputs": [],
   "source": [
    "dff = pd.DataFrame(test)"
   ]
  },
  {
   "cell_type": "code",
   "execution_count": 349,
   "metadata": {},
   "outputs": [
    {
     "ename": "AttributeError",
     "evalue": "'numpy.float64' object has no attribute 'append'",
     "output_type": "error",
     "traceback": [
      "\u001b[0;31m---------------------------------------------------------------------------\u001b[0m",
      "\u001b[0;31mAttributeError\u001b[0m                            Traceback (most recent call last)",
      "\u001b[0;32m<ipython-input-349-aec3cdab2190>\u001b[0m in \u001b[0;36m<module>\u001b[0;34m()\u001b[0m\n\u001b[0;32m----> 1\u001b[0;31m \u001b[0mdff\u001b[0m\u001b[0;34m.\u001b[0m\u001b[0mPosition\u001b[0m\u001b[0;34m.\u001b[0m\u001b[0mtimestampA\u001b[0m\u001b[0;34m.\u001b[0m\u001b[0mappend\u001b[0m\u001b[0;34m(\u001b[0m\u001b[0;36m24\u001b[0m\u001b[0;34m)\u001b[0m\u001b[0;34m\u001b[0m\u001b[0m\n\u001b[0m",
      "\u001b[0;31mAttributeError\u001b[0m: 'numpy.float64' object has no attribute 'append'"
     ]
    }
   ],
   "source": [
    "dff.Position.timestampA(24)"
   ]
  },
  {
   "cell_type": "code",
   "execution_count": 335,
   "metadata": {},
   "outputs": [
    {
     "data": {
      "text/html": [
       "<div>\n",
       "<style scoped>\n",
       "    .dataframe tbody tr th:only-of-type {\n",
       "        vertical-align: middle;\n",
       "    }\n",
       "\n",
       "    .dataframe tbody tr th {\n",
       "        vertical-align: top;\n",
       "    }\n",
       "\n",
       "    .dataframe thead th {\n",
       "        text-align: right;\n",
       "    }\n",
       "</style>\n",
       "<table border=\"1\" class=\"dataframe\">\n",
       "  <thead>\n",
       "    <tr style=\"text-align: right;\">\n",
       "      <th></th>\n",
       "      <th>Licks</th>\n",
       "      <th>Position</th>\n",
       "      <th>Time</th>\n",
       "    </tr>\n",
       "    <tr>\n",
       "      <th>Session</th>\n",
       "      <th></th>\n",
       "      <th></th>\n",
       "      <th></th>\n",
       "    </tr>\n",
       "  </thead>\n",
       "  <tbody>\n",
       "    <tr>\n",
       "      <th>1</th>\n",
       "      <td>NaN</td>\n",
       "      <td>0.00</td>\n",
       "      <td>2019-03-10 11:38:00</td>\n",
       "    </tr>\n",
       "    <tr>\n",
       "      <th>1</th>\n",
       "      <td>-1.000</td>\n",
       "      <td>NaN</td>\n",
       "      <td>2019-03-10 11:38:00</td>\n",
       "    </tr>\n",
       "    <tr>\n",
       "      <th>1</th>\n",
       "      <td>88957.000</td>\n",
       "      <td>NaN</td>\n",
       "      <td>2019-03-10 11:38:00</td>\n",
       "    </tr>\n",
       "    <tr>\n",
       "      <th>1</th>\n",
       "      <td>99.626</td>\n",
       "      <td>80.81</td>\n",
       "      <td>2019-03-10 11:38:00</td>\n",
       "    </tr>\n",
       "  </tbody>\n",
       "</table>\n",
       "</div>"
      ],
      "text/plain": [
       "             Licks  Position                Time\n",
       "Session                                         \n",
       "1              NaN      0.00 2019-03-10 11:38:00\n",
       "1           -1.000       NaN 2019-03-10 11:38:00\n",
       "1        88957.000       NaN 2019-03-10 11:38:00\n",
       "1           99.626     80.81 2019-03-10 11:38:00"
      ]
     },
     "execution_count": 335,
     "metadata": {},
     "output_type": "execute_result"
    }
   ],
   "source": [
    "dff"
   ]
  },
  {
   "cell_type": "code",
   "execution_count": 324,
   "metadata": {},
   "outputs": [
    {
     "data": {
      "text/plain": [
       "array([ 80.81 ,  99.626])"
      ]
     },
     "execution_count": 324,
     "metadata": {},
     "output_type": "execute_result"
    }
   ],
   "source": [
    "np.sort(dff.loc['timestampPC'])"
   ]
  },
  {
   "cell_type": "code",
   "execution_count": 458,
   "metadata": {},
   "outputs": [],
   "source": [
    "test = {'Val1': {'val1_1': np.array([1,2,3,4,5,6]), 'val1_2': np.array([6,5,4,3,2,1])},\n",
    "        'Val2': {'val2_1': np.array([11,12,13,14,15,16]), 'val1_2': np.array([16,15,14,13,12,11])}\n",
    "    \n",
    "}"
   ]
  },
  {
   "cell_type": "code",
   "execution_count": 459,
   "metadata": {},
   "outputs": [
    {
     "data": {
      "text/plain": [
       "{'Val1': {'val1_1': array([1, 2, 3, 4, 5, 6]),\n",
       "  'val1_2': array([6, 5, 4, 3, 2, 1])},\n",
       " 'Val2': {'val2_1': array([11, 12, 13, 14, 15, 16]),\n",
       "  'val1_2': array([16, 15, 14, 13, 12, 11])}}"
      ]
     },
     "execution_count": 459,
     "metadata": {},
     "output_type": "execute_result"
    }
   ],
   "source": [
    "test"
   ]
  },
  {
   "cell_type": "code",
   "execution_count": 460,
   "metadata": {},
   "outputs": [],
   "source": [
    "hm = pd.DataFrame(test)"
   ]
  },
  {
   "cell_type": "code",
   "execution_count": 465,
   "metadata": {},
   "outputs": [
    {
     "data": {
      "text/plain": [
       "array([3, 2, 1])"
      ]
     },
     "execution_count": 465,
     "metadata": {},
     "output_type": "execute_result"
    }
   ],
   "source": [
    "hm.Val1.val1_2[hm.Val1.val1_1 > 3]"
   ]
  },
  {
   "cell_type": "code",
   "execution_count": 359,
   "metadata": {},
   "outputs": [
    {
     "data": {
      "text/html": [
       "<div>\n",
       "<style scoped>\n",
       "    .dataframe tbody tr th:only-of-type {\n",
       "        vertical-align: middle;\n",
       "    }\n",
       "\n",
       "    .dataframe tbody tr th {\n",
       "        vertical-align: top;\n",
       "    }\n",
       "\n",
       "    .dataframe thead th {\n",
       "        text-align: right;\n",
       "    }\n",
       "</style>\n",
       "<table border=\"1\" class=\"dataframe\">\n",
       "  <thead>\n",
       "    <tr style=\"text-align: right;\">\n",
       "      <th></th>\n",
       "      <th>Val1</th>\n",
       "      <th>Val2</th>\n",
       "    </tr>\n",
       "  </thead>\n",
       "  <tbody>\n",
       "    <tr>\n",
       "      <th>val1_1</th>\n",
       "      <td>[1, 2, 3, 4, 5, 6]</td>\n",
       "      <td>NaN</td>\n",
       "    </tr>\n",
       "    <tr>\n",
       "      <th>val1_2</th>\n",
       "      <td>[6, 5, 4, 3, 2, 1]</td>\n",
       "      <td>[16, 15, 14, 13, 12, 11]</td>\n",
       "    </tr>\n",
       "    <tr>\n",
       "      <th>val2_1</th>\n",
       "      <td>NaN</td>\n",
       "      <td>[11, 12, 13, 14, 15, 16]</td>\n",
       "    </tr>\n",
       "  </tbody>\n",
       "</table>\n",
       "</div>"
      ],
      "text/plain": [
       "                      Val1                      Val2\n",
       "val1_1  [1, 2, 3, 4, 5, 6]                       NaN\n",
       "val1_2  [6, 5, 4, 3, 2, 1]  [16, 15, 14, 13, 12, 11]\n",
       "val2_1                 NaN  [11, 12, 13, 14, 15, 16]"
      ]
     },
     "execution_count": 359,
     "metadata": {},
     "output_type": "execute_result"
    }
   ],
   "source": [
    "hm"
   ]
  },
  {
   "cell_type": "code",
   "execution_count": 369,
   "metadata": {},
   "outputs": [],
   "source": [
    "hm.Val1.val1_1.append(4)"
   ]
  },
  {
   "cell_type": "code",
   "execution_count": 370,
   "metadata": {},
   "outputs": [
    {
     "data": {
      "text/plain": [
       "[1, 2, 3, 4, 5, 6, 4]"
      ]
     },
     "execution_count": 370,
     "metadata": {},
     "output_type": "execute_result"
    }
   ],
   "source": [
    "hm.Val1.val1_1"
   ]
  },
  {
   "cell_type": "code",
   "execution_count": 372,
   "metadata": {},
   "outputs": [],
   "source": [
    "hm['test'] = 3"
   ]
  },
  {
   "cell_type": "code",
   "execution_count": 376,
   "metadata": {},
   "outputs": [
    {
     "data": {
      "text/plain": [
       "[['Experimenter: megha'],\n",
       " ['Datetime: 201903101138'],\n",
       " ['MouseID: hpm'],\n",
       " ['Behavioural protocol started: 20190310113952'],\n",
       " ['T', '1', '80.744760', '80.748'],\n",
       " ['T', '1', '80.744760', '80.748'],\n",
       " ['s', '70075', '80.748'],\n",
       " ['x', '070075', '80.749'],\n",
       " ['x', '070085', '80.756'],\n",
       " ['M', '0.00', '80.760'],\n",
       " ['x', '070095', '80.792'],\n",
       " ['x', '070105', '80.792'],\n",
       " ['x', '070115', '80.792'],\n",
       " ['x', '070125', '80.797'],\n",
       " ['x', '070135', '80.810'],\n",
       " ['M', '0.00', '80.810'],\n",
       " ['x', '070145', '80.824'],\n",
       " ['x', '070155', '80.826'],\n",
       " ['x', '070165', '80.838'],\n",
       " ['M', '0.00', '80.838']]"
      ]
     },
     "execution_count": 376,
     "metadata": {},
     "output_type": "execute_result"
    }
   ],
   "source": [
    "data[0:20]"
   ]
  },
  {
   "cell_type": "code",
   "execution_count": 648,
   "metadata": {},
   "outputs": [],
   "source": [
    "md = pd.DataFrame({\n",
    "    'Trial': {'Value': [], 'TS_PC': []},\n",
    "    'Sniff': {'TS_A': [], 'TS_PC': []},\n",
    "    'Position': {'Value':[], 'TS_PC': []},\n",
    "    'Reward': {'trigTS_PC': [], 'TS_A': [], 'TS_PC': [], 'offTS_A': [], 'offTS_PC': []},\n",
    "    'Licks': {'Value': [], 'TS_A': [], 'TS_PC': []},\n",
    "})"
   ]
  },
  {
   "cell_type": "code",
   "execution_count": 649,
   "metadata": {},
   "outputs": [],
   "source": [
    "session = 1\n",
    "for datum in data:\n",
    "    t = [float(x) for x in datum[1:]]\n",
    "    if datum[0] == 'x':\n",
    "        md.Sniff.TS_A.append(t[0])\n",
    "        md.Sniff.TS_PC.append(t[1])\n",
    "    elif datum[0] == 'M':\n",
    "        md.Position.Value.append(-t[0])\n",
    "        md.Position.TS_PC.append(t[1])\n",
    "    elif datum[0] == 'R':\n",
    "        md.Reward.trigTS_PC.append(t)\n",
    "    elif datum[0] == 'r':\n",
    "        md.Reward.TS_A.append(t[0])\n",
    "        md.Reward.TS_PC.append(t[1])\n",
    "    elif datum[0] == 'p':\n",
    "        md.Reward.offTS_A.append(t[0])\n",
    "        md.Reward.offTS_PC.append(t[1])\n",
    "    elif datum[0] == 'l':\n",
    "        md.Licks.Value.append(t[0])\n",
    "        md.Licks.TS_A.append(t[1])\n",
    "        md.Licks.TS_PC.append(t[2])\n",
    "    elif datum[0] == 'T':\n",
    "        md.Trial.Value.append(t[0])\n",
    "        md.Trial.TS_PC.append(t[1])"
   ]
  },
  {
   "cell_type": "code",
   "execution_count": 653,
   "metadata": {},
   "outputs": [],
   "source": [
    "md.Licks['posIDX'] = []\n",
    "old = 100\n",
    "n = 0\n",
    "for hm in md.Licks.TS_PC:\n",
    "    keepatit = 1\n",
    "    while keepatit:\n",
    "        if hm-md.Position.TS_PC[n] < 0:\n",
    "            keepatit = 0\n",
    "            md.Licks.posIDX.append(n)\n",
    "        else:\n",
    "            n += 1"
   ]
  },
  {
   "cell_type": "code",
   "execution_count": 654,
   "metadata": {},
   "outputs": [
    {
     "data": {
      "image/png": "[encoded data removed]",
      "text/plain": [
       "<Figure size 720x720 with 1 Axes>"
      ]
     },
     "metadata": {},
     "output_type": "display_data"
    }
   ],
   "source": [
    "plt.figure(figsize=[10,10])\n",
    "plt.plot(md.Position.Value,md.Position.TS_PC,'.k',markersize = .2)\n",
    "for hm in md.Licks.posIDX:\n",
    "    plt.plot(md.Position.Value[hm],md.Position.TS_PC[hm],'.r',markersize = 5)"
   ]
  },
  {
   "cell_type": "code",
   "execution_count": 636,
   "metadata": {},
   "outputs": [
    {
     "data": {
      "text/plain": [
       "[]"
      ]
     },
     "execution_count": 636,
     "metadata": {},
     "output_type": "execute_result"
    }
   ],
   "source": [
    "md.Licks.posIDX"
   ]
  },
  {
   "cell_type": "code",
   "execution_count": 655,
   "metadata": {},
   "outputs": [],
   "source": [
    "def read_t(SpikesDataFileName,insec=True):\n",
    "    '''Reads data from an MClust .t file.\n",
    "       These files contain events/spikes data.\n",
    "       Based on MClust-3.4/Matlab/SpecificUtils/ReadHeader.m\n",
    "       If 'insec' is True, timestamps are given in seconds (float)\n",
    "       otherwise they are given as tenths of msec (int32)\n",
    "    '''\n",
    "    fid = open(SpikesDataFileName,'rb')\n",
    "    (DataPosition,HeaderText) = read_t_header(fid)\n",
    "    fid.seek(DataPosition)\n",
    "    ByteString = fid.read()\n",
    "    Nsamples = len(ByteString)/4\n",
    "    timestamps = np.empty(Nsamples,dtype=np.uint32)\n",
    "    for inds in range(Nsamples):\n",
    "        timestamps[inds] = unpack('>I', ByteString[4*inds:4*inds+4])[0]\n",
    "    #timestamps = np.fromfile(fid,dtype='uint32')\n",
    "    fid.close()\n",
    "    if insec:\n",
    "        timestamps = 1e-4*timestamps        # From 100usec to sec (see NSpike/MClust docs)\n",
    "    return timestamps\n"
   ]
  },
  {
   "cell_type": "code",
   "execution_count": 923,
   "metadata": {},
   "outputs": [],
   "source": [
    "fid = open('/Users/StensolaTor/Fundrive/Spike times hpm vr 09032019/TT0_14._t64','rb')"
   ]
  },
  {
   "cell_type": "code",
   "execution_count": 903,
   "metadata": {},
   "outputs": [],
   "source": [
    "tet = []\n",
    "doit = 1\n",
    "n = 0\n",
    "while doit:\n",
    "    t = fid.readline()\n",
    "    n += 1\n",
    "    if t == b'':\n",
    "        doit = 0\n",
    "        break\n",
    "    if n > 11:\n",
    "        tet.append(t)"
   ]
  },
  {
   "cell_type": "code",
   "execution_count": 906,
   "metadata": {},
   "outputs": [
    {
     "ename": "SyntaxError",
     "evalue": "invalid syntax (<ipython-input-906-4be52d068645>, line 1)",
     "output_type": "error",
     "traceback": [
      "\u001b[0;36m  File \u001b[0;32m\"<ipython-input-906-4be52d068645>\"\u001b[0;36m, line \u001b[0;32m1\u001b[0m\n\u001b[0;31m    hm = ''.join(b tet)\u001b[0m\n\u001b[0m                     ^\u001b[0m\n\u001b[0;31mSyntaxError\u001b[0m\u001b[0;31m:\u001b[0m invalid syntax\n"
     ]
    }
   ],
   "source": [
    "hm = ''.join(b tet)\n",
    "print(hm)"
   ]
  },
  {
   "cell_type": "code",
   "execution_count": 936,
   "metadata": {},
   "outputs": [
    {
     "name": "stdout",
     "output_type": "stream",
     "text": [
      "b''\n"
     ]
    }
   ],
   "source": [
    "fid = open('/Users/StensolaTor/Fundrive/Spike times hpm vr 09032019/TT0_14._t64','rb')\n",
    "doit = 1\n",
    "saveflag = 0\n",
    "spks = []\n",
    "while doit:\n",
    "    t = fid.readline()\n",
    "    if t == b'':\n",
    "        saveflag = 0\n",
    "        break\n",
    "    elif saveflag:    \n",
    "        spks.append(t)\n",
    "    elif t == b'%%ENDHEADER\\n':\n",
    "        saveflag = 1"
   ]
  },
  {
   "cell_type": "code",
   "execution_count": 941,
   "metadata": {},
   "outputs": [],
   "source": [
    "spkss=[]\n",
    "for i in range(len(spks)):\n",
    "    spkss.append(spks[i][:-1])"
   ]
  },
  {
   "cell_type": "code",
   "execution_count": 915,
   "metadata": {},
   "outputs": [],
   "source": [
    "Timestamps = []\n",
    "for inds in tet:\n",
    "    for inds2 in range(int(len(inds)/4)):\n",
    "        Timestamps.append(unpack('>I2', inds[4*inds2:4*inds2+4])[0])"
   ]
  },
  {
   "cell_type": "code",
   "execution_count": 1004,
   "metadata": {},
   "outputs": [],
   "source": [
    "\n",
    "Nsamples = int(len(spks)/4)\n",
    "timestamps = np.empty(Nsamples,dtype=np.uint32)\n",
    "for inds in range(Nsamples):\n",
    "    timestamps[inds] = unpack('>I2', spks[4*inds:4*inds+4])[0]\n",
    "fid.close()"
   ]
  },
  {
   "cell_type": "code",
   "execution_count": 1008,
   "metadata": {},
   "outputs": [
    {
     "data": {
      "text/plain": [
       "[<matplotlib.lines.Line2D at 0x18b7eea20>]"
      ]
     },
     "execution_count": 1008,
     "metadata": {},
     "output_type": "execute_result"
    },
    {
     "data": {
      "image/png": "[encoded data removed]",
      "text/plain": [
       "<Figure size 720x720 with 1 Axes>"
      ]
     },
     "metadata": {},
     "output_type": "display_data"
    }
   ],
   "source": [
    "plt.figure(figsize=[10,10])\n",
    "plt.plot(timestamps[1::2],'.k',markersize = 1)"
   ]
  },
  {
   "cell_type": "code",
   "execution_count": 997,
   "metadata": {},
   "outputs": [],
   "source": [
    "fid = open('/Users/StensolaTor/Fundrive/Spike times hpm vr 09032019/TT5_09.t64','rb')\n",
    "saveflag = 0\n",
    "spks = []\n",
    "while True:\n",
    "    t = fid.readline()\n",
    "    if t == b'%%ENDHEADER\\n':\n",
    "        saveflag = 1\n",
    "        b = fid.tell()\n",
    "        fid.seek(b)\n",
    "        spks = fid.read()\n",
    "        break"
   ]
  },
  {
   "cell_type": "code",
   "execution_count": 985,
   "metadata": {},
   "outputs": [
    {
     "data": {
      "text/plain": [
       "<function BufferedReader.tell>"
      ]
     },
     "execution_count": 985,
     "metadata": {},
     "output_type": "execute_result"
    }
   ],
   "source": [
    "fid.tell"
   ]
  },
  {
   "cell_type": "code",
   "execution_count": 1234,
   "metadata": {},
   "outputs": [],
   "source": [
    "fid = open('/Users/StensolaTor/Fundrive/Spike times hpm vr 09032019/100_AUX3.continuous','rb')"
   ]
  },
  {
   "cell_type": "code",
   "execution_count": null,
   "metadata": {},
   "outputs": [],
   "source": [
    "fid.readline()"
   ]
  },
  {
   "cell_type": "code",
   "execution_count": 1247,
   "metadata": {},
   "outputs": [],
   "source": [
    "b = fid.tell()"
   ]
  },
  {
   "cell_type": "code",
   "execution_count": 1248,
   "metadata": {},
   "outputs": [],
   "source": [
    "fid.seek(b)\n",
    "test = fid.read()"
   ]
  },
  {
   "cell_type": "code",
   "execution_count": 1249,
   "metadata": {},
   "outputs": [
    {
     "data": {
      "text/plain": [
       "293580836"
      ]
     },
     "execution_count": 1249,
     "metadata": {},
     "output_type": "execute_result"
    }
   ],
   "source": [
    "len(test)"
   ]
  },
  {
   "cell_type": "code",
   "execution_count": 1250,
   "metadata": {},
   "outputs": [],
   "source": [
    "Nsamples = int(len(test)/4)\n",
    "ttimestamps = np.empty(Nsamples,dtype=np.uint32)\n",
    "for inds in range(Nsamples):\n",
    "    ttimestamps[inds] = unpack('>I', test[4*inds:4*inds+4])[0]"
   ]
  },
  {
   "cell_type": "code",
   "execution_count": 1251,
   "metadata": {},
   "outputs": [
    {
     "data": {
      "text/plain": [
       "[<matplotlib.lines.Line2D at 0x19d2cc748>]"
      ]
     },
     "execution_count": 1251,
     "metadata": {},
     "output_type": "execute_result"
    },
    {
     "data": {
      "image/png": "[encoded data removed]",
      "text/plain": [
       "<Figure size 1440x1440 with 1 Axes>"
      ]
     },
     "metadata": {},
     "output_type": "display_data"
    }
   ],
   "source": [
    "plt.figure(figsize=[20,20])\n",
    "plt.plot(ttimestamps[40000000:40050000])"
   ]
  },
  {
   "cell_type": "code",
   "execution_count": 1264,
   "metadata": {},
   "outputs": [],
   "source": [
    "def loadEvents(filepath):\n",
    "\n",
    "    data = { }\n",
    "    \n",
    "    print ('loading events...')\n",
    "    \n",
    "    f = open(filepath,'rb')\n",
    "    header = readHeader(f)\n",
    "    \n",
    "    if float(header['version']) < 0.4:\n",
    "        raise Exception('Loader is only compatible with .events files with version 0.4 or higher')\n",
    "     \n",
    "    data['header'] = header \n",
    "    \n",
    "    index = -1\n",
    "\n",
    "    channel = np.zeros(MAX_NUMBER_OF_EVENTS)\n",
    "    timestamps = np.zeros(MAX_NUMBER_OF_EVENTS)\n",
    "    sampleNum = np.zeros(MAX_NUMBER_OF_EVENTS)\n",
    "    nodeId = np.zeros(MAX_NUMBER_OF_EVENTS)\n",
    "    eventType = np.zeros(MAX_NUMBER_OF_EVENTS)\n",
    "    eventId = np.zeros(MAX_NUMBER_OF_EVENTS)\n",
    "    recordingNumber = np.zeros(MAX_NUMBER_OF_EVENTS)\n",
    "\n",
    "    while f.tell() < os.fstat(f.fileno()).st_size:\n",
    "        \n",
    "        index += 1\n",
    "        \n",
    "        timestamps[index] = np.fromfile(f, np.dtype('<i8'), 1)\n",
    "        sampleNum[index] = np.fromfile(f, np.dtype('<i2'), 1)\n",
    "        eventType[index] = np.fromfile(f, np.dtype('<u1'), 1)\n",
    "        nodeId[index] = np.fromfile(f, np.dtype('<u1'), 1)\n",
    "        eventId[index] = np.fromfile(f, np.dtype('<u1'), 1)\n",
    "        channel[index] = np.fromfile(f, np.dtype('<u1'), 1)\n",
    "        recordingNumber[index] = np.fromfile(f, np.dtype('<u2'), 1)\n",
    "        \n",
    "    data['channel'] = channel[:index]\n",
    "    data['timestamps'] = timestamps[:index]\n",
    "    data['eventType'] = eventType[:index]\n",
    "    data['nodeId'] = nodeId[:index]\n",
    "    data['eventId'] = eventId[:index]\n",
    "    data['recordingNumber'] = recordingNumber[:index]\n",
    "    data['sampleNum'] = sampleNum[:index]\n",
    "    \n",
    "    return data\n",
    "    \n",
    "def readHeader(f):\n",
    "    \"\"\"Read header information from the first 1024 bytes of an OpenEphys file.\n",
    "    \n",
    "    Args:\n",
    "        f: An open file handle to an OpenEphys file\n",
    "    \n",
    "    Returns: dict with the following keys.\n",
    "        - bitVolts : float, scaling factor, microvolts per bit\n",
    "        - blockLength : int, e.g. 1024, length of each record (see \n",
    "            loadContinuous)\n",
    "        - bufferSize : int, e.g. 1024\n",
    "        - channel : the channel, eg \"'CH1'\"\n",
    "        - channelType : eg \"'Continuous'\"\n",
    "        - date_created : eg \"'15-Jun-2016 21212'\" (What are these numbers?)\n",
    "        - description : description of the file format\n",
    "        - format : \"'Open Ephys Data Format'\"\n",
    "        - header_bytes : int, e.g. 1024\n",
    "        - sampleRate : float, e.g. 30000.\n",
    "        - version: eg '0.4'\n",
    "        Note that every value is a string, even numeric data like bitVolts.\n",
    "        Some strings have extra, redundant single apostrophes.\n",
    "    \"\"\"\n",
    "    header = {}\n",
    "    \n",
    "    # Read the data as a string\n",
    "    # Remove newlines and redundant \"header.\" prefixes\n",
    "    # The result should be a series of \"key = value\" strings, separated\n",
    "    # by semicolons.\n",
    "    header_string = f.read(1024).replace('\\n','').replace('header.','')\n",
    "    \n",
    "    # Parse each key = value string separately\n",
    "    for pair in header_string.split(';'):\n",
    "        if '=' in pair:\n",
    "            key, value = pair.split(' = ')\n",
    "            key = key.strip()\n",
    "            value = value.strip()\n",
    "            \n",
    "            # Convert some values to numeric\n",
    "            if key in ['bitVolts', 'sampleRate']:\n",
    "                header[key] = float(value)\n",
    "            elif key in ['blockLength', 'bufferSize', 'header_bytes']:\n",
    "                header[key] = int(value)\n",
    "            else:\n",
    "                # Keep as string\n",
    "                header[key] = value\n",
    "\n",
    "    return header"
   ]
  },
  {
   "cell_type": "code",
   "execution_count": 1265,
   "metadata": {},
   "outputs": [
    {
     "name": "stdout",
     "output_type": "stream",
     "text": [
      "loading events...\n"
     ]
    },
    {
     "ename": "TypeError",
     "evalue": "a bytes-like object is required, not 'str'",
     "output_type": "error",
     "traceback": [
      "\u001b[0;31m---------------------------------------------------------------------------\u001b[0m",
      "\u001b[0;31mTypeError\u001b[0m                                 Traceback (most recent call last)",
      "\u001b[0;32m<ipython-input-1265-850dfe365741>\u001b[0m in \u001b[0;36m<module>\u001b[0;34m()\u001b[0m\n\u001b[0;32m----> 1\u001b[0;31m \u001b[0mdata\u001b[0m \u001b[0;34m=\u001b[0m \u001b[0mloadEvents\u001b[0m\u001b[0;34m(\u001b[0m\u001b[0;34m'/Users/StensolaTor/Fundrive/Spike times hpm vr 09032019/all_channels.events'\u001b[0m\u001b[0;34m)\u001b[0m\u001b[0;34m\u001b[0m\u001b[0m\n\u001b[0m",
      "\u001b[0;32m<ipython-input-1264-532a2ba6e905>\u001b[0m in \u001b[0;36mloadEvents\u001b[0;34m(filepath)\u001b[0m\n\u001b[1;32m      6\u001b[0m \u001b[0;34m\u001b[0m\u001b[0m\n\u001b[1;32m      7\u001b[0m     \u001b[0mf\u001b[0m \u001b[0;34m=\u001b[0m \u001b[0mopen\u001b[0m\u001b[0;34m(\u001b[0m\u001b[0mfilepath\u001b[0m\u001b[0;34m,\u001b[0m\u001b[0;34m'rb'\u001b[0m\u001b[0;34m)\u001b[0m\u001b[0;34m\u001b[0m\u001b[0m\n\u001b[0;32m----> 8\u001b[0;31m     \u001b[0mheader\u001b[0m \u001b[0;34m=\u001b[0m \u001b[0mreadHeader\u001b[0m\u001b[0;34m(\u001b[0m\u001b[0mf\u001b[0m\u001b[0;34m)\u001b[0m\u001b[0;34m\u001b[0m\u001b[0m\n\u001b[0m\u001b[1;32m      9\u001b[0m \u001b[0;34m\u001b[0m\u001b[0m\n\u001b[1;32m     10\u001b[0m     \u001b[0;32mif\u001b[0m \u001b[0mfloat\u001b[0m\u001b[0;34m(\u001b[0m\u001b[0mheader\u001b[0m\u001b[0;34m[\u001b[0m\u001b[0;34m'version'\u001b[0m\u001b[0;34m]\u001b[0m\u001b[0;34m)\u001b[0m \u001b[0;34m<\u001b[0m \u001b[0;36m0.4\u001b[0m\u001b[0;34m:\u001b[0m\u001b[0;34m\u001b[0m\u001b[0m\n",
      "\u001b[0;32m<ipython-input-1264-532a2ba6e905>\u001b[0m in \u001b[0;36mreadHeader\u001b[0;34m(f)\u001b[0m\n\u001b[1;32m     73\u001b[0m     \u001b[0;31m# The result should be a series of \"key = value\" strings, separated\u001b[0m\u001b[0;34m\u001b[0m\u001b[0;34m\u001b[0m\u001b[0m\n\u001b[1;32m     74\u001b[0m     \u001b[0;31m# by semicolons.\u001b[0m\u001b[0;34m\u001b[0m\u001b[0;34m\u001b[0m\u001b[0m\n\u001b[0;32m---> 75\u001b[0;31m     \u001b[0mheader_string\u001b[0m \u001b[0;34m=\u001b[0m \u001b[0mf\u001b[0m\u001b[0;34m.\u001b[0m\u001b[0mread\u001b[0m\u001b[0;34m(\u001b[0m\u001b[0;36m1024\u001b[0m\u001b[0;34m)\u001b[0m\u001b[0;34m.\u001b[0m\u001b[0mreplace\u001b[0m\u001b[0;34m(\u001b[0m\u001b[0;34m'\\n'\u001b[0m\u001b[0;34m,\u001b[0m\u001b[0;34m''\u001b[0m\u001b[0;34m)\u001b[0m\u001b[0;34m.\u001b[0m\u001b[0mreplace\u001b[0m\u001b[0;34m(\u001b[0m\u001b[0;34m'header.'\u001b[0m\u001b[0;34m,\u001b[0m\u001b[0;34m''\u001b[0m\u001b[0;34m)\u001b[0m\u001b[0;34m\u001b[0m\u001b[0m\n\u001b[0m\u001b[1;32m     76\u001b[0m \u001b[0;34m\u001b[0m\u001b[0m\n\u001b[1;32m     77\u001b[0m     \u001b[0;31m# Parse each key = value string separately\u001b[0m\u001b[0;34m\u001b[0m\u001b[0;34m\u001b[0m\u001b[0m\n",
      "\u001b[0;31mTypeError\u001b[0m: a bytes-like object is required, not 'str'"
     ]
    }
   ],
   "source": [
    "data = loadEvents('/Users/StensolaTor/Fundrive/Spike times hpm vr 09032019/all_channels.events')"
   ]
  },
  {
   "cell_type": "code",
   "execution_count": 1355,
   "metadata": {},
   "outputs": [],
   "source": [
    "f = open('/Users/StensolaTor/Fundrive/Spike times hpm vr 09032019/all_channels.events','rb')"
   ]
  },
  {
   "cell_type": "code",
   "execution_count": null,
   "metadata": {},
   "outputs": [],
   "source": [
    "f.readline()"
   ]
  },
  {
   "cell_type": "code",
   "execution_count": 1368,
   "metadata": {},
   "outputs": [
    {
     "ename": "ValueError",
     "evalue": "setting an array element with a sequence.",
     "output_type": "error",
     "traceback": [
      "\u001b[0;31m---------------------------------------------------------------------------\u001b[0m",
      "\u001b[0;31mValueError\u001b[0m                                Traceback (most recent call last)",
      "\u001b[0;32m<ipython-input-1368-54c05f8a7d2f>\u001b[0m in \u001b[0;36m<module>\u001b[0;34m()\u001b[0m\n\u001b[1;32m     20\u001b[0m     \u001b[0meventId\u001b[0m\u001b[0;34m[\u001b[0m\u001b[0mindex\u001b[0m\u001b[0;34m]\u001b[0m \u001b[0;34m=\u001b[0m \u001b[0mnp\u001b[0m\u001b[0;34m.\u001b[0m\u001b[0mfromfile\u001b[0m\u001b[0;34m(\u001b[0m\u001b[0mf\u001b[0m\u001b[0;34m,\u001b[0m \u001b[0mnp\u001b[0m\u001b[0;34m.\u001b[0m\u001b[0mdtype\u001b[0m\u001b[0;34m(\u001b[0m\u001b[0;34m'<u1'\u001b[0m\u001b[0;34m)\u001b[0m\u001b[0;34m,\u001b[0m \u001b[0;36m1\u001b[0m\u001b[0;34m)\u001b[0m\u001b[0;34m\u001b[0m\u001b[0m\n\u001b[1;32m     21\u001b[0m     \u001b[0mchannel\u001b[0m\u001b[0;34m[\u001b[0m\u001b[0mindex\u001b[0m\u001b[0;34m]\u001b[0m \u001b[0;34m=\u001b[0m \u001b[0mnp\u001b[0m\u001b[0;34m.\u001b[0m\u001b[0mfromfile\u001b[0m\u001b[0;34m(\u001b[0m\u001b[0mf\u001b[0m\u001b[0;34m,\u001b[0m \u001b[0mnp\u001b[0m\u001b[0;34m.\u001b[0m\u001b[0mdtype\u001b[0m\u001b[0;34m(\u001b[0m\u001b[0;34m'<u1'\u001b[0m\u001b[0;34m)\u001b[0m\u001b[0;34m,\u001b[0m \u001b[0;36m1\u001b[0m\u001b[0;34m)\u001b[0m\u001b[0;34m\u001b[0m\u001b[0m\n\u001b[0;32m---> 22\u001b[0;31m     \u001b[0mrecordingNumber\u001b[0m\u001b[0;34m[\u001b[0m\u001b[0mindex\u001b[0m\u001b[0;34m]\u001b[0m \u001b[0;34m=\u001b[0m \u001b[0mnp\u001b[0m\u001b[0;34m.\u001b[0m\u001b[0mfromfile\u001b[0m\u001b[0;34m(\u001b[0m\u001b[0mf\u001b[0m\u001b[0;34m,\u001b[0m \u001b[0mnp\u001b[0m\u001b[0;34m.\u001b[0m\u001b[0mdtype\u001b[0m\u001b[0;34m(\u001b[0m\u001b[0;34m'<u2'\u001b[0m\u001b[0;34m)\u001b[0m\u001b[0;34m,\u001b[0m \u001b[0;36m1\u001b[0m\u001b[0;34m)\u001b[0m\u001b[0;34m\u001b[0m\u001b[0m\n\u001b[0m\u001b[1;32m     23\u001b[0m \u001b[0;34m\u001b[0m\u001b[0m\n\u001b[1;32m     24\u001b[0m \u001b[0;34m\u001b[0m\u001b[0m\n",
      "\u001b[0;31mValueError\u001b[0m: setting an array element with a sequence."
     ]
    }
   ],
   "source": [
    "import os\n",
    "index = -1\n",
    "MAX_NUMBER_OF_EVENTS = int(1e6)\n",
    "channel = np.zeros(MAX_NUMBER_OF_EVENTS)\n",
    "timestamps = np.zeros(MAX_NUMBER_OF_EVENTS)\n",
    "sampleNum = np.zeros(MAX_NUMBER_OF_EVENTS)\n",
    "nodeId = np.zeros(MAX_NUMBER_OF_EVENTS)\n",
    "eventType = np.zeros(MAX_NUMBER_OF_EVENTS)\n",
    "eventId = np.zeros(MAX_NUMBER_OF_EVENTS)\n",
    "recordingNumber = np.zeros(MAX_NUMBER_OF_EVENTS)\n",
    "\n",
    "while f.tell() < os.fstat(f.fileno()).st_size:\n",
    "\n",
    "    index += 1\n",
    "\n",
    "    timestamps[index] = np.fromfile(f, np.dtype('<i8'), 1)\n",
    "    sampleNum[index] = np.fromfile(f, np.dtype('<i2'), 1)\n",
    "    eventType[index] = np.fromfile(f, np.dtype('<u1'), 1)\n",
    "    nodeId[index] = np.fromfile(f, np.dtype('<u1'), 1)\n",
    "    eventId[index] = np.fromfile(f, np.dtype('<u1'), 1)\n",
    "    channel[index] = np.fromfile(f, np.dtype('<u1'), 1)\n",
    "    recordingNumber[index] = np.fromfile(f, np.dtype('<u2'), 1)\n",
    "\n",
    "\n",
    "    "
   ]
  },
  {
   "cell_type": "code",
   "execution_count": 1369,
   "metadata": {},
   "outputs": [
    {
     "name": "stdout",
     "output_type": "stream",
     "text": [
      "462775\n"
     ]
    },
    {
     "data": {
      "text/plain": [
       "[<matplotlib.lines.Line2D at 0x2d9894a20>]"
      ]
     },
     "execution_count": 1369,
     "metadata": {},
     "output_type": "execute_result"
    },
    {
     "data": {
      "image/png": "[encoded data removed]",
      "text/plain": [
       "<Figure size 432x288 with 1 Axes>"
      ]
     },
     "metadata": {},
     "output_type": "display_data"
    }
   ],
   "source": [
    "print(index)\n",
    "plt.plot(sampleNum[:index],eventType[:index],'.k')"
   ]
  },
  {
   "cell_type": "code",
   "execution_count": 1370,
   "metadata": {},
   "outputs": [
    {
     "data": {
      "text/plain": [
       "[<matplotlib.lines.Line2D at 0x2da089c50>]"
      ]
     },
     "execution_count": 1370,
     "metadata": {},
     "output_type": "execute_result"
    },
    {
     "data": {
      "image/png": "[encoded data removed]",
      "text/plain": [
       "<Figure size 1440x360 with 1 Axes>"
      ]
     },
     "metadata": {},
     "output_type": "display_data"
    }
   ],
   "source": [
    "plt.figure(figsize=[20,5])\n",
    "plt.plot(timestamps[:1000],'.k',markersize = .2)"
   ]
  },
  {
   "cell_type": "code",
   "execution_count": 1318,
   "metadata": {},
   "outputs": [
    {
     "data": {
      "text/plain": [
       "1000000"
      ]
     },
     "execution_count": 1318,
     "metadata": {},
     "output_type": "execute_result"
    }
   ],
   "source": []
  },
  {
   "cell_type": "code",
   "execution_count": 1377,
   "metadata": {},
   "outputs": [
    {
     "data": {
      "text/plain": [
       "array([ 0.])"
      ]
     },
     "execution_count": 1377,
     "metadata": {},
     "output_type": "execute_result"
    }
   ],
   "source": [
    "np.unique(channel[:index])"
   ]
  },
  {
   "cell_type": "code",
   "execution_count": 1344,
   "metadata": {},
   "outputs": [
    {
     "data": {
      "text/plain": [
       "165.0"
      ]
     },
     "execution_count": 1344,
     "metadata": {},
     "output_type": "execute_result"
    }
   ],
   "source": [
    "timestamps[:400][1]"
   ]
  },
  {
   "cell_type": "code",
   "execution_count": 1372,
   "metadata": {},
   "outputs": [
    {
     "data": {
      "text/plain": [
       "231387"
      ]
     },
     "execution_count": 1372,
     "metadata": {},
     "output_type": "execute_result"
    }
   ],
   "source": [
    "sum(eventType[:index] == 1)"
   ]
  },
  {
   "cell_type": "code",
   "execution_count": 1376,
   "metadata": {},
   "outputs": [
    {
     "data": {
      "text/plain": [
       "46277.4"
      ]
     },
     "execution_count": 1376,
     "metadata": {},
     "output_type": "execute_result"
    }
   ],
   "source": [
    "231387/5"
   ]
  },
  {
   "cell_type": "code",
   "execution_count": 1374,
   "metadata": {},
   "outputs": [
    {
     "data": {
      "text/plain": [
       "409350"
      ]
     },
     "execution_count": 1374,
     "metadata": {},
     "output_type": "execute_result"
    }
   ],
   "source": [
    "len(md.Sniff.TS_PC)"
   ]
  },
  {
   "cell_type": "code",
   "execution_count": 1380,
   "metadata": {},
   "outputs": [
    {
     "data": {
      "image/png": "[encoded data removed]",
      "text/plain": [
       "<Figure size 432x288 with 1 Axes>"
      ]
     },
     "metadata": {},
     "output_type": "display_data"
    }
   ],
   "source": [
    "# L-16 MCS 507 Wed 2 Oct 2013 : riemann_matplotlib.py\n",
    "\n",
    "\"\"\"\n",
    "This script uses pyplot of matplotlib to plot\n",
    "the Riemann surface of the cubed root.\n",
    "\"\"\"\n",
    "\n",
    "from mpl_toolkits.mplot3d import Axes3D\n",
    "from matplotlib import cm\n",
    "import matplotlib.pyplot as plt\n",
    "import numpy as np\n",
    "\n",
    "F = plt.figure()\n",
    "A = F.gca(projection='3d')\n",
    "UR = np.arange(-1, 1, 0.01)\n",
    "VR = np.arange(-1, 1, 0.01)\n",
    "U, V = np.meshgrid(UR, VR)\n",
    "X = U**3 - 3*U*V**2\n",
    "Y = 2*U**2*V - V**3\n",
    "\n",
    "# scale colors so that in [0,1]\n",
    "CV = (1.0 + V)/2\n",
    "\n",
    "S = A.plot_surface(X, Y, U, facecolors=cm.jet(CV))\n",
    "\n",
    "plt.show()"
   ]
  },
  {
   "cell_type": "code",
   "execution_count": null,
   "metadata": {},
   "outputs": [],
   "source": []
  }
 ],
 "metadata": {
  "kernelspec": {
   "display_name": "Python 3",
   "language": "python",
   "name": "python3"
  },
  "language_info": {
   "codemirror_mode": {
    "name": "ipython",
    "version": 3
   },
   "file_extension": ".py",
   "mimetype": "text/x-python",
   "name": "python",
   "nbconvert_exporter": "python",
   "pygments_lexer": "ipython3",
   "version": "3.6.6"
  }
 },
 "nbformat": 4,
 "nbformat_minor": 2
}
